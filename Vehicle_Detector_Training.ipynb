{
  "nbformat": 4,
  "nbformat_minor": 0,
  "metadata": {
    "colab": {
      "name": "Vehicle Detector Training.ipynb",
      "provenance": [],
      "collapsed_sections": [
        "09Mra8fXyF1R"
      ],
      "include_colab_link": true
    },
    "kernelspec": {
      "name": "python3",
      "display_name": "Python 3"
    },
    "accelerator": "GPU"
  },
  "cells": [
    {
      "cell_type": "markdown",
      "metadata": {
        "id": "view-in-github",
        "colab_type": "text"
      },
      "source": [
        "<a href=\"https://colab.research.google.com/github/ab1470/Vehicle-Detection/blob/master/Vehicle_Detector_Training.ipynb\" target=\"_parent\"><img src=\"https://colab.research.google.com/assets/colab-badge.svg\" alt=\"Open In Colab\"/></a>"
      ]
    },
    {
      "cell_type": "markdown",
      "metadata": {
        "id": "8Ys5rSlM1f8k",
        "colab_type": "text"
      },
      "source": [
        "# **Train a Core ML Object Detection Model to Recognize Automobiles**\n",
        "\n",
        "This notebook uses Apple's [Turi Create](https://github.com/apple/turicreate) to train an object detection model that recognizes automobiles. The training data are images from the [Stanford Cars Dataset](https://ai.stanford.edu/~jkrause/cars/car_dataset.html); each image is annotated with the bounding box coordinates for any automobiles within the image.\n",
        "\n",
        "The end resusult is a `.mlmodel` file that, when given an image input, will output normalized bounding box coordinates for any predicted automobiles within the image, as well as the confidence value for each prediction. The `.mlmodel` file can then be used in any app that supports Apple's [Core ML framework](https://developer.apple.com/documentation/coreml).\n",
        "\n",
        "I created and ran this notebook in [Google Colaboratory](https://colab.research.google.com/notebooks/intro.ipynb), which is a free cloud-based Jupyter notebook environment, and includes access to a GPU for training ML models."
      ]
    },
    {
      "cell_type": "markdown",
      "metadata": {
        "id": "J-SCRCHo1Lky",
        "colab_type": "text"
      },
      "source": [
        "### **1) Configure your environment**"
      ]
    },
    {
      "cell_type": "markdown",
      "metadata": {
        "id": "3CKkQGWTL-ez",
        "colab_type": "text"
      },
      "source": [
        "##### Install the necessary packages\n",
        "\n",
        "The model was trained using Turi Create version 5.8. At time of writing, I was unable to successfully use version 6.x because it would crash the Colab notebook (similar to what was described [here](https://github.com/apple/turicreate/issues/2917))"
      ]
    },
    {
      "cell_type": "code",
      "metadata": {
        "id": "L3aTslTlNUvh",
        "colab_type": "code",
        "colab": {}
      },
      "source": [
        "!pip install turicreate==5.8\n",
        "\n",
        "# The wrong version of MXNET will be installed; uninstall it\n",
        "!pip uninstall -y mxnet\n",
        "\n",
        "# Install CUDA10-compatible version of mxnet \n",
        "!pip install mxnet-cu100==1.5.1"
      ],
      "execution_count": 0,
      "outputs": []
    },
    {
      "cell_type": "markdown",
      "metadata": {
        "id": "rESeGxb4masw",
        "colab_type": "text"
      },
      "source": [
        "**BEFORE YOU CONTINUE: Restart the runtime**\n",
        "\n",
        "The version of the numpy package that Turi Create installed is different from the version supplied by default in the Colab notebook, so you must restart the runtime in order to use the new version. Either click the \"RESTART RUNTIME\" button in the output above, or click Runtime -> Restart runtime... in the menu bar."
      ]
    },
    {
      "cell_type": "code",
      "metadata": {
        "id": "VTpmcwogaXIX",
        "colab_type": "code",
        "colab": {}
      },
      "source": [
        "import turicreate as tc\n",
        "import os\n",
        "\n",
        "# tell Turi Create to use all available GPUs\n",
        "tc.config.set_num_gpus(-1)"
      ],
      "execution_count": 0,
      "outputs": []
    },
    {
      "cell_type": "code",
      "metadata": {
        "id": "jU1pU07sk_Nl",
        "colab_type": "code",
        "colab": {}
      },
      "source": [
        "# create helper methods to delete files and directories\n",
        "import shutil\n",
        "\n",
        "def delete_dir(directory: str):\n",
        "  if os.path.isdir(directory):\n",
        "    shutil.rmtree(directory)\n",
        "  else:\n",
        "    print(f\"'{directory}' is not a directory\")\n",
        "\n",
        "def delete_file(filepath: str):\n",
        "  if os.path.isfile(filepath):\n",
        "    !rm $filepath\n",
        "  else:\n",
        "    print(f\"'{filepath}' is not a valid file path\")\n",
        "\n",
        "# delete the \"sample_data\" directory that's included in the Colab notebook\n",
        "delete_dir(\"sample_data\")"
      ],
      "execution_count": 0,
      "outputs": []
    },
    {
      "cell_type": "markdown",
      "metadata": {
        "id": "dagQpUzoMHzY",
        "colab_type": "text"
      },
      "source": [
        "##### Mount Google Drive and create a directory for the files"
      ]
    },
    {
      "cell_type": "code",
      "metadata": {
        "id": "UjiPPIMgMoWV",
        "colab_type": "code",
        "colab": {}
      },
      "source": [
        "# Mount google drive\n",
        "from google.colab import drive\n",
        "drive.mount('/content/gdrive')"
      ],
      "execution_count": 0,
      "outputs": []
    },
    {
      "cell_type": "code",
      "metadata": {
        "id": "ZNfwmkP3MTDn",
        "colab_type": "code",
        "colab": {}
      },
      "source": [
        "# Create a directory to store all files for this project\n",
        "# (change the `parent_dir` and `directory` variables if you want to use a different location)\n",
        "parent_dir = \"/content/gdrive/My Drive\"\n",
        "directory = \"Vehicle Detection Model\"\n",
        "path = os.path.join(parent_dir, directory) \n",
        "\n",
        "if not os.path.isdir(path):\n",
        "  os.mkdir(path)\n",
        "\n",
        "# Set the current working directory to the one you just made\n",
        "os.chdir(path)"
      ],
      "execution_count": 0,
      "outputs": []
    },
    {
      "cell_type": "markdown",
      "metadata": {
        "id": "y2Yqc0Aa4mNO",
        "colab_type": "text"
      },
      "source": [
        "### **2) Download data**\n",
        "\n",
        "Download the compressed images and their annotations from the [Stanford Cars Dataset](https://ai.stanford.edu/~jkrause/cars/car_dataset.html), then unzip the images"
      ]
    },
    {
      "cell_type": "code",
      "metadata": {
        "id": "ug36c_MN6GKz",
        "colab_type": "code",
        "colab": {}
      },
      "source": [
        "!wget \"http://imagenet.stanford.edu/internal/car196/car_ims.tgz\"\n",
        "!wget \"http://imagenet.stanford.edu/internal/car196/cars_annos.mat\"\n",
        "\n",
        "\n",
        "import tarfile\n",
        "\n",
        "# extract the images from the tarfile\n",
        "tarred_file = tarfile.open(\"car_ims.tgz\")\n",
        "tarred_file.extractall()\n",
        "tarred_file.close()\n",
        "\n",
        "# delete the tarfile\n",
        "delete_file(\"car_ims.tgz\")"
      ],
      "execution_count": 0,
      "outputs": []
    },
    {
      "cell_type": "markdown",
      "metadata": {
        "id": "u44f2wAj4xs3",
        "colab_type": "text"
      },
      "source": [
        "### **3) Save the data into an SFrame**\n",
        "\n",
        "We'll store our images and annotations in an [SFrame](https://apple.github.io/turicreate/docs/api/generated/turicreate.SFrame.html), which Turi Create will use when it trains the model. "
      ]
    },
    {
      "cell_type": "markdown",
      "metadata": {
        "id": "09Mra8fXyF1R",
        "colab_type": "text"
      },
      "source": [
        "##### First, we need to convert the annotations into a format that Turi Create can parse:"
      ]
    },
    {
      "cell_type": "code",
      "metadata": {
        "id": "QAi0zKkdS1jZ",
        "colab_type": "code",
        "colab": {}
      },
      "source": [
        "# install the scipy package\n",
        "!pip install -U -q scipy\n",
        "\n",
        "# load the annotations from the .mat file\n",
        "from scipy import io\n",
        "annos_mat = io.loadmat('cars_annos.mat')\n",
        "annotations = annos_mat['annotations'][0]\n",
        "\n",
        "# helper function to convert the annotations to a Turi Create-compatible format\n",
        "def convert_annotation(_row):\n",
        "    label = _row[0][0];\n",
        "    x_min = int(_row[1][0][0]) # left x\n",
        "    y_min = int(_row[2][0][0]) # top y\n",
        "    x_max = int(_row[3][0][0]) # right x\n",
        "    y_max = int(_row[4][0][0]) # bottom y\n",
        "\n",
        "    result = {'coordinates':\n",
        "        {\n",
        "            'x' : (x_min + x_max)/2,\n",
        "            'y' : (y_min + y_max)/2,\n",
        "            'width': x_max - x_min,\n",
        "            'height': y_max - y_min\n",
        "        },\n",
        "            'label': \"car\"\n",
        "        }\n",
        "    return result\n",
        "\n",
        "# convert all of the annotations and store them in a hash table\n",
        "annotations_map = {}\n",
        "\n",
        "for anno in annotations:\n",
        "  image_name = anno[0][0].split(\"/\")[-1].split(\".jpg\")[0]\n",
        "  converted_anno = convert_annotation(anno)\n",
        "  annotations_map[image_name] = converted_anno"
      ],
      "execution_count": 0,
      "outputs": []
    },
    {
      "cell_type": "code",
      "metadata": {
        "id": "zAeIv05KyZCq",
        "colab_type": "code",
        "outputId": "ad658284-cb3a-4571-a5ec-4ab72782809a",
        "colab": {
          "base_uri": "https://localhost:8080/",
          "height": 51
        }
      },
      "source": [
        "# Print the annotations for images '000001' and '000002' to verify the conversion:\n",
        "print(annotations_map['000001'])\n",
        "print(annotations_map['000002'])"
      ],
      "execution_count": 0,
      "outputs": [
        {
          "output_type": "stream",
          "text": [
            "{'coordinates': {'x': 482.5, 'y': 362.0, 'width': 741, 'height': 710}, 'label': 'car'}\n",
            "{'coordinates': {'x': 244.5, 'y': 113.0, 'width': 393, 'height': 178}, 'label': 'car'}\n"
          ],
          "name": "stdout"
        }
      ]
    },
    {
      "cell_type": "markdown",
      "metadata": {
        "id": "JZY5HIIczdVY",
        "colab_type": "text"
      },
      "source": [
        "##### Now load the images and their annotations into an SFrame:"
      ]
    },
    {
      "cell_type": "code",
      "metadata": {
        "id": "80CaDMx7TiA0",
        "colab_type": "code",
        "colab": {}
      },
      "source": [
        "# load images into a new SFrame\n",
        "image_sframe = tc.image_analysis.load_images(\"car_ims\", recursive=True, random_order=True)\n",
        "\n",
        "# create an 'image_name' column in the SFrame to hold the image's filename (without the '.jpg' extension)\n",
        "image_sframe['image_name'] = image_sframe['path'].apply(lambda x: x.split('/')[-1].split('.jpg')[0])\n",
        "\n",
        "# create an 'annotations' column in the SFrame to hold the converted annotation values, \n",
        "# which we'll take from the annotations_map dict created above\n",
        "image_sframe['annotations'] = image_sframe['image_name'].apply(lambda x: annotations_map[x])"
      ],
      "execution_count": 0,
      "outputs": []
    },
    {
      "cell_type": "markdown",
      "metadata": {
        "id": "o7wuWoq_z3j3",
        "colab_type": "text"
      },
      "source": [
        "##### Examine the SFrame to ensure that everything looks good:"
      ]
    },
    {
      "cell_type": "code",
      "metadata": {
        "id": "jq8CARO530MX",
        "colab_type": "code",
        "colab": {}
      },
      "source": [
        "# first, look at the first 10 entries in the SFrame\n",
        "image_sframe.head()"
      ],
      "execution_count": 0,
      "outputs": []
    },
    {
      "cell_type": "code",
      "metadata": {
        "id": "GKZo94AlUGFb",
        "colab_type": "code",
        "colab": {}
      },
      "source": [
        "# Now add a column to the SFrame to hold the image with the ground truth bounding box drawn on top\n",
        "image_sframe['image_with_ground_truth'] = tc.object_detector.util.draw_bounding_boxes(image_sframe['image'], image_sframe['annotations'])"
      ],
      "execution_count": 0,
      "outputs": []
    },
    {
      "cell_type": "code",
      "metadata": {
        "id": "m6XOKGVrUoUO",
        "colab_type": "code",
        "colab": {}
      },
      "source": [
        "# Note: if you were running this notebook on your local machine, you could call \n",
        "# `image_sframe.explore()`, which would launch a new window that visualizes the \n",
        "# SFrame (including the images). You would also be able to do this within the \n",
        "# Colab notebook if it were running Turi Create version 6+. If neither if these \n",
        "# is the case, though, you will need to view the images one-by-one.\n",
        "\n",
        "# Display the ground truth bounding boxes for the first 10 images\n",
        "from PIL import Image\n",
        "for i in range(3):\n",
        "  tc_img = image_sframe['image_with_ground_truth'][i]\n",
        "  img = Image.fromarray(tc_img.pixel_data)\n",
        "  display(img)"
      ],
      "execution_count": 0,
      "outputs": []
    },
    {
      "cell_type": "code",
      "metadata": {
        "id": "XRf-q7gxUeXC",
        "colab_type": "code",
        "colab": {}
      },
      "source": [
        "# If everything looks good, remove the `image_with_ground_truth` column from the SFrame\n",
        "image_sframe = image_sframe.remove_column('image_with_ground_truth')"
      ],
      "execution_count": 0,
      "outputs": []
    },
    {
      "cell_type": "code",
      "metadata": {
        "id": "cGPc4oDGNXwZ",
        "colab_type": "code",
        "colab": {}
      },
      "source": [
        "# Because the images and annotations are now loaded into an SFrame, we can delete\n",
        "# them from the current directory\n",
        "delete_dir(\"car_ims\")\n",
        "delete_file(\"cars_annos.mat\")"
      ],
      "execution_count": 0,
      "outputs": []
    },
    {
      "cell_type": "markdown",
      "metadata": {
        "id": "Ki_UsfNV69JO",
        "colab_type": "text"
      },
      "source": [
        "##### Now split the SFrame into two SFrames, one for the training data and one for the test data, then save the two SFrames:"
      ]
    },
    {
      "cell_type": "code",
      "metadata": {
        "id": "HVhXS3cq6-eP",
        "colab_type": "code",
        "colab": {}
      },
      "source": [
        "# Split the data\n",
        "train_data, test_data = image_sframe.random_split(0.8)"
      ],
      "execution_count": 0,
      "outputs": []
    },
    {
      "cell_type": "code",
      "metadata": {
        "id": "RcKRbcEpMuqv",
        "colab_type": "code",
        "colab": {}
      },
      "source": [
        "# Save the training and test SFrames so you can use them later\n",
        "train_data.save('train_data.sframe')\n",
        "test_data.save('test_data.sframe')"
      ],
      "execution_count": 0,
      "outputs": []
    },
    {
      "cell_type": "markdown",
      "metadata": {
        "id": "BAj2pEKPIX9R",
        "colab_type": "text"
      },
      "source": [
        "###**4) Train the model**"
      ]
    },
    {
      "cell_type": "markdown",
      "metadata": {
        "id": "u1sgQFzb-k0Z",
        "colab_type": "text"
      },
      "source": [
        "##### Optional:\n",
        "\n",
        "If you have restarted the notebook and you need to re-load the SFrames that you created in steps 2 & 3, you can do so with the following code:"
      ]
    },
    {
      "cell_type": "code",
      "metadata": {
        "id": "ChwIcbM--9A5",
        "colab_type": "code",
        "colab": {}
      },
      "source": [
        "# Make sure the current working directory is the one where you stored the SFrames\n",
        "train_data =  tc.SFrame('train_data.sframe')\n",
        "test_data =  tc.SFrame('test_data.sframe')"
      ],
      "execution_count": 0,
      "outputs": []
    },
    {
      "cell_type": "markdown",
      "metadata": {
        "id": "Zt6_f6ESAKWX",
        "colab_type": "text"
      },
      "source": [
        "##### **Start the training**\n",
        "\n",
        "The training will take a long time! For me, it ran for about 9 hours.\n",
        "\n",
        "Note: if the `max_iterations` parmameter is not set, the `tc.object_detector.create` method will automatically determine the number of iterations based on the amount of data provided. \n",
        "\n",
        "If you want to limit the number of iterations (for example, if you want to do a test run before starting the full training), set the max_iterations parameter like so:\n",
        "\n",
        "\n",
        "```\n",
        "model = tc.object_detector.create(train_data, max_iterations = 200)\n",
        "```\n",
        "\n"
      ]
    },
    {
      "cell_type": "code",
      "metadata": {
        "id": "5en2xAXDsDXS",
        "colab_type": "code",
        "colab": {}
      },
      "source": [
        "# Train the model\n",
        "model = tc.object_detector.create(train_data)\n",
        "# model = tc.object_detector.create(train_data)\n",
        "\n",
        "# Create names for .model and .mlmodel files\n",
        "model_name = \"VehicleDetector.model\"\n",
        "mlmodel_name = \"VehicleDetector.mlmodel\"\n",
        "\n",
        "# Save the model for later use in Turi Create\n",
        "model.save(model_name)\n",
        "\n",
        "# Export and save the CoreML model\n",
        "model.export_coreml(mlmodel_name)"
      ],
      "execution_count": 0,
      "outputs": []
    },
    {
      "cell_type": "markdown",
      "metadata": {
        "id": "LvKWKD3dcVah",
        "colab_type": "text"
      },
      "source": [
        "###**5) Evaluate the model**"
      ]
    },
    {
      "cell_type": "markdown",
      "metadata": {
        "id": "VPsrz8hbXGjc",
        "colab_type": "text"
      },
      "source": [
        "##### Optional:\n",
        "\n",
        "If you need to reload the model and SFrame files, use the following code:"
      ]
    },
    {
      "cell_type": "code",
      "metadata": {
        "id": "rXP0oz2UPKBl",
        "colab_type": "code",
        "colab": {}
      },
      "source": [
        "# Make sure the current working directory is correct\n",
        "model = tc.load_model(\"VehicleDetector.model\")\n",
        "test_data =  tc.SFrame('test_data.sframe')"
      ],
      "execution_count": 0,
      "outputs": []
    },
    {
      "cell_type": "markdown",
      "metadata": {
        "id": "zhhep4LtX5vV",
        "colab_type": "text"
      },
      "source": [
        "##### Evaluate the model on the test data, then print the metrics:"
      ]
    },
    {
      "cell_type": "code",
      "metadata": {
        "id": "nKd1EPMiXBQ2",
        "colab_type": "code",
        "colab": {}
      },
      "source": [
        "# Evaluate the model and save the results into a dictionary\n",
        "# (it may take ~10 minutes)\n",
        "metrics = model.evaluate(test_data)\n",
        "print(metrics)"
      ],
      "execution_count": 0,
      "outputs": []
    },
    {
      "cell_type": "markdown",
      "metadata": {
        "id": "1V_0KDZMYAEa",
        "colab_type": "text"
      },
      "source": [
        "##### Run predictions on the test data, then add a column to the SFrame with the bounding boxes for the predictions drawn on top of the images:"
      ]
    },
    {
      "cell_type": "code",
      "metadata": {
        "id": "6M66gla9cim0",
        "colab_type": "code",
        "colab": {}
      },
      "source": [
        "# Save predictions to an SArray\n",
        "# (it may take ~10 minutes)\n",
        "test_data['predictions'] = model.predict(test_data)\n",
        "test_data['image_with_predictions'] = tc.object_detector.util.draw_bounding_boxes(test_data['image'], test_data['predictions'])\n",
        "\n",
        "# Save the updated test_data SFrame\n",
        "test_data.save('test_data.sframe')"
      ],
      "execution_count": 0,
      "outputs": []
    },
    {
      "cell_type": "code",
      "metadata": {
        "id": "Q7tE7G2Ggg9v",
        "colab_type": "code",
        "colab": {}
      },
      "source": [
        "# Display predictions for the first 10 images\n",
        "from PIL import Image\n",
        "for i in range(10):\n",
        "  tc_img = test_data['image_with_predictions'][i]\n",
        "  img = Image.fromarray(tc_img.pixel_data)\n",
        "  display(img)"
      ],
      "execution_count": 0,
      "outputs": []
    },
    {
      "cell_type": "markdown",
      "metadata": {
        "id": "_-jwNKubkzBV",
        "colab_type": "text"
      },
      "source": [
        "###**6) Reduce the model's size** (optional)\n",
        "\n",
        "You can reduce the size of the `.mlmodel` file by using a lower precision for the weight parameters. See '[Reducing the Size of your Core ML App](https://developer.apple.com/documentation/coreml/reducing_the_size_of_your_core_ml_app)' for an explanation. "
      ]
    },
    {
      "cell_type": "code",
      "metadata": {
        "id": "8T8XJ8mPk1vR",
        "colab_type": "code",
        "colab": {}
      },
      "source": [
        "import coremltools\n",
        "\n",
        "model_spec = coremltools.utils.load_spec('VehicleDetector.mlmodel')\n",
        "model_fp16_spec = coremltools.utils.convert_neural_network_spec_weights_to_fp16(model_spec)\n",
        "coremltools.utils.save_spec(model_fp16_spec, 'VehicleDetectorSM.mlmodel')"
      ],
      "execution_count": 0,
      "outputs": []
    },
    {
      "cell_type": "code",
      "metadata": {
        "id": "dEAixurkvqL2",
        "colab_type": "code",
        "colab": {}
      },
      "source": [
        "from coremltools.models.neural_network import quantization_utils\n",
        "\n",
        "model = coremltools.models.MLModel('VehicleDetector.mlmodel')\n",
        "quantized_model = quantization_utils.quantize_weights(model, 8, 'linear')\n",
        "# quantized_model = coremltools.models.MLModel(quantized_model)\n",
        "coremltools.utils.save_spec(quantized_model, 'VehicleDetectorSM8.mlmodel')"
      ],
      "execution_count": 0,
      "outputs": []
    },
    {
      "cell_type": "markdown",
      "metadata": {
        "id": "Q2Gda6JkTR7Z",
        "colab_type": "text"
      },
      "source": [
        "###**7) Download files to your computer** (optional)\n",
        "\n",
        "To download an individual file, you can use the code below, or you can right-click the file in the file tree to the left\n",
        "\n",
        "To download a directory, you must use the code below to compress the file. Then you can download the compressed file either with code or with the file tree."
      ]
    },
    {
      "cell_type": "code",
      "metadata": {
        "id": "MFDYfKJdV-iC",
        "colab_type": "code",
        "colab": {}
      },
      "source": [
        "# import the files package\n",
        "from google.colab import files"
      ],
      "execution_count": 0,
      "outputs": []
    },
    {
      "cell_type": "code",
      "metadata": {
        "id": "72Pu3akqVrv2",
        "colab_type": "code",
        "colab": {}
      },
      "source": [
        "# Download the .mlmodel file to your computer\n",
        "files.download('VehicleDetector.mlmodel') "
      ],
      "execution_count": 0,
      "outputs": []
    },
    {
      "cell_type": "code",
      "metadata": {
        "id": "xCkePuuEY3p-",
        "colab_type": "code",
        "colab": {}
      },
      "source": [
        "files.download('VehicleDetectorSM.mlmodel')\n",
        "files.download('VehicleDetectorSM8.mlmodel')"
      ],
      "execution_count": 0,
      "outputs": []
    },
    {
      "cell_type": "code",
      "metadata": {
        "id": "YramSrh8VnrK",
        "colab_type": "code",
        "colab": {}
      },
      "source": [
        "# Compress the `test_data` SFrame and download it to your computer\n",
        "!zip -r test_data.zip test_data.sframe\n",
        "files.download('test_data.zip')"
      ],
      "execution_count": 0,
      "outputs": []
    },
    {
      "cell_type": "markdown",
      "metadata": {
        "id": "qgw-xZAhawre",
        "colab_type": "text"
      },
      "source": [
        "###**8) Housekeeping**\n",
        "\n",
        "The files created in this process take up a lot of space on your Google Drive! You should delete the files that you don't need to keep."
      ]
    },
    {
      "cell_type": "code",
      "metadata": {
        "id": "WzpMWObpbC-r",
        "colab_type": "code",
        "colab": {}
      },
      "source": [
        "# Delete the SFrames and the Turi Create .model file\n",
        "delete_dir(\"train_data.sframe\")\n",
        "delete_dir(\"test_data.sframe\")\n",
        "delete_dir(\"VehicleDetector.model\")"
      ],
      "execution_count": 0,
      "outputs": []
    },
    {
      "cell_type": "code",
      "metadata": {
        "id": "PnexntDfcWcS",
        "colab_type": "code",
        "colab": {}
      },
      "source": [
        "# If you don't need to keep *any* of the files on your Google Drive, you can delete the entire directory\n",
        "# Make sure you've downloaded whichever files you want to keep to your computer\n",
        "delete_dir(path)"
      ],
      "execution_count": 0,
      "outputs": []
    }
  ]
}